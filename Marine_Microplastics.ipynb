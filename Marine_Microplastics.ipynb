{
  "nbformat": 4,
  "nbformat_minor": 0,
  "metadata": {
    "colab": {
      "provenance": [],
      "authorship_tag": "ABX9TyPSLuIC2XCvxZ+fzRQCl5ld",
      "include_colab_link": true
    },
    "kernelspec": {
      "name": "python3",
      "display_name": "Python 3"
    },
    "language_info": {
      "name": "python"
    }
  },
  "cells": [
    {
      "cell_type": "markdown",
      "metadata": {
        "id": "view-in-github",
        "colab_type": "text"
      },
      "source": [
        "<a href=\"https://colab.research.google.com/github/nataliaboaventura/microplastic/blob/main/Marine_Microplastics.ipynb\" target=\"_parent\"><img src=\"https://colab.research.google.com/assets/colab-badge.svg\" alt=\"Open In Colab\"/></a>"
      ]
    },
    {
      "cell_type": "markdown",
      "source": [
        "![](https://raw.githubusercontent.com/nataliaboaventura/microplastic/refs/heads/main/sea-2470908.jpg)\n",
        "*Source: [Pixabay](https://pixabay.com/photos/sea-ocean-underwater-turtle-2470908/), Public Domain.*\n",
        "#Exploring Microplastics in the Atlantic Ocean: Data Analysis and Insights\n",
        "by *Natalia Boaventura*\n",
        "\n",
        "\n",
        "The objective of this project is to explore Kaggle's dataset [\"Marine Microplastics\"](https://www.kaggle.com/datasets/william2020/marine-microplastics?resource=download&SSORegistrationToken=CfDJ8EnTcgNki7pNlcBNxcx19bsgzTpDM_RqiDGZsGaOUlZdCTG7WJ1TMWnQltiT6VmHxokRFTJPvsjF-6LWqziEnauehrYSXLbnZN-7B0yKPpUYeFrzWxHd02RBJ4C_U8bH6NOqB0WhJ6SXn3tul5yzqNUNOv9lcbqxzeXDLT7zNidLdz1N6QegQGQQxIKutTtiOkrWD1ZFOcVft4wrBRy3ujo3lPbjLkk-f_d4-C--L9sX50heY1qpEYm1jlj1Olfd-2UMCC4J4WX6OEJfNhblWEfutjVCsXUgEimrLWI4c1ZUXpjpeuOwhYWheuA1gpUFsek432taaBs5l5Fa4rjXBGH7zNlVuMafG9bPHydctAuuy_69kCU&DisplayName=Natalia). The Marine Microplastics database contains data on microplastic concentrations, collection locations, and sampling methods, aiming to improve water quality and protect coastal ecosystems.\n",
        "Microplastics are a growing environmental concern, as they pose significant threats to marine life and ecosystems. By analyzing this dataset, the project aims to understand the distribution, sources, and impact of microplastics in the ocean. The exploration will involve cleaning and visualizing the data, identifying patterns, and possibly correlating the presence of microplastics with environmental factors such as water temperature, location, and pollution levels. The insights gained from this analysis could help in developing strategies for mitigating plastic pollution in the ocean.\n"
      ],
      "metadata": {
        "id": "nqp2Os4ysqqQ"
      }
    },
    {
      "cell_type": "code",
      "execution_count": null,
      "metadata": {
        "id": "CXi6JBBGsilH"
      },
      "outputs": [],
      "source": [
        "# Importing libraries\n",
        "import pandas as pd\n",
        "from tabulate import tabulate\n",
        "\n",
        "# Downloading and extracting the dataset from Kaggle\n",
        "def download_and_extract_data():\n",
        "\n",
        "    # Downloading the dataset from Kaggle using the API\n",
        "    !kaggle datasets download -d william2020/marine-microplastics\n",
        "    !unzip marine-microplastics.zip\n"
      ]
    },
    {
      "cell_type": "code",
      "source": [
        "# Loading the dataset into a Pandas DataFrame\n",
        "def load_data():\n",
        "    df = pd.read_csv('Marine_Microplastics.csv')\n",
        "    return df\n",
        "\n",
        "# Displaying the initial records\n",
        "print(tabulate(df.head(), headers='keys', tablefmt='psql'))"
      ],
      "metadata": {
        "id": "I9Mvwh8uC0QG",
        "outputId": "651a5120-43b6-4734-c615-e697facad2bc",
        "colab": {
          "base_uri": "https://localhost:8080/"
        }
      },
      "execution_count": null,
      "outputs": [
        {
          "output_type": "stream",
          "name": "stdout",
          "text": [
            "+----+------------+----------------+-----------+--------------+-------------------+---------------+-----------+-----------------+-----------------+----------------------+----------------------------------------------------------------------------------------------------------------------------------------------------------------------------------------------------------------------------------------------------------------------------------------------------------------------------------------------+-------------------------------------------------+------------------------------------------------------------------------+-------------------------------------+--------------------+-----------------------------------------------------------------------------------------+------------+-------------+------------------------+--------------------------------------+-----------+------------+\n",
            "|    |   OBJECTID | Oceans         |   Regions |   SubRegions | Sampling Method   |   Measurement | Unit      | Density Range   | Density Class   | Short Reference      | Long Reference                                                                                                                                                                                                                                                                                                                               | DOI                                             | Organization                                                           | Keywords                            |   Accession Number | Accession Link                                                                          |   Latitude |   Longitude | Date                   | GlobalID                             |         x |          y |\n",
            "|----+------------+----------------+-----------+--------------+-------------------+---------------+-----------+-----------------+-----------------+----------------------+----------------------------------------------------------------------------------------------------------------------------------------------------------------------------------------------------------------------------------------------------------------------------------------------------------------------------------------------+-------------------------------------------------+------------------------------------------------------------------------+-------------------------------------+--------------------+-----------------------------------------------------------------------------------------+------------+-------------+------------------------+--------------------------------------+-----------+------------|\n",
            "|  0 |       9676 | Atlantic Ocean |       nan |          nan | Grab sample       |         0.018 | pieces/m3 | 0.005-1         | Medium          | Barrows et al.2018   | Barrows, A.P.W., S.E. Cathey, C.W. Petersen. 2018. Marine environment microfiber contamination: global patterns and the diversity of microparticle origins. Environ. Pollut. 237, 275?284                                                                                                                                                    | https://doi.org/10.1016/j.envpol.2018.02.062    | Adventure Scientist                                                    | Adventure Scientist/Citizen Science |             211009 | https://www.ncei.noaa.gov/access/metadata/landing-page/bin/iso?id=gov.noaa.nodc:211009  | -31.696    |    -48.56   | 8/11/2015 12:00:00 AM  | a77121b2-e113-444e-82d9-7af11d62fdd2 |  -48.56   | -31.696    |\n",
            "|  1 |       6427 | Pacific Ocean  |       nan |          nan | Neuston net       |         0     | pieces/m3 | 0-0.0005        | Very Low        | Law et al.2014       | Law, K.L, S.K. Morét-Ferguson, D.S. Goodwin, E.R. Zettler, E. DeForce, T. Kukulka, et al. 2014. Distribution of surface plastic debris in the eastern Pacific Ocean from an 11-year data set. Environ Sci Technol. 48(9):4732–8.                                                                                                             | https://doi.org/10.1021/es4053076               | Sea Education Association                                              | SEA                                 |             211008 | https://www.ncei.noaa.gov/access/metadata/landing-page/bin/iso?id=gov.noaa.nodc:211008  |   6.35     |   -121.85   | 12/18/2002 12:00:00 AM | be27c450-02ca-4261-8d89-cae21108e6cc | -121.85   |   6.35     |\n",
            "|  2 |      10672 | Pacific Ocean  |       nan |          nan | Manta net         |         0.013 | pieces/m3 | 0.005-1         | Medium          | Goldstein et al.2013 | Goldstein, M.C., A.J. Titmus, M. Ford. 2013. Scales of Spatial Heterogeneity of Plastic Marine Debris in the Northeast Pacific Ocean. PLoS ONE 8(11): e80020.                                                                                                                                                                                | https://doi.org/10.1371/journal.pone.0080020    | Scripps Institution of Oceanography-University of California San Diego | Great Pacific Garbage Patch/SEAPLEX |             253448 | https://www.ncei.noaa.gov/access/metadata/landing-page/bin/iso?id=gov.noaa.nodc:0253448 |   0.5      |    -95.35   | 10/17/2006 12:00:00 AM | 23effcdd-35b7-4e1e-adb4-390693a287d3 |  -95.35   |   0.5      |\n",
            "|  3 |      13921 | Atlantic Ocean |       nan |          nan | Aluminum bucket   |      1368     | pieces/m3 | >=10            | Very High       | Queiroz et al.2022   | Queiroz, A.F.dos S., A.S. da Conceição, D. Chelazzi, M. Rollnic, A. Cincinelli, T. Giarrizzo, J.E.M. Filho. 2022. First assessment of microplastic and artificial microfiber contamination in surface waters of the Amazon Continental Shelf. Science of The Total Environment, 839, 156259. https://doi.org/10.1016/j.scitotenv.2022.156259 | https://doi.org/10.1016/j.scitotenv.2022.156259 | Federal University of Pará, Brazil                                     | Amazon Continental Shelf            |             276482 | https://www.ncei.noaa.gov/access/metadata/landing-page/bin/iso?id=gov.noaa.nodc:276482  |   0.631825 |    -45.3982 | 10/17/2018 12:00:00 AM | 16d77822-0533-4116-97b9-0bdb592f3d6e |  -45.3982 |   0.631825 |\n",
            "|  4 |       9344 | Pacific Ocean  |       nan |          nan | Grab sample       |         0.001 | pieces/m3 | 0.0005-0.005    | Low             | Barrows et al.2018   | Barrows, A.P.W., S.E. Cathey, C.W. Petersen. 2018. Marine environment microfiber contamination: global patterns and the diversity of microparticle origins. Environ. Pollut. 237, 275?284                                                                                                                                                    | https://doi.org/10.1016/j.envpol.2018.02.062    | Adventure Scientist                                                    | Adventure Scientist/Citizen Science |             211009 | https://www.ncei.noaa.gov/access/metadata/landing-page/bin/iso?id=gov.noaa.nodc:211009  |  16.623    |    -99.6978 | 1/3/2015 12:00:00 AM   | b9e435e3-9e86-4143-8b51-877e5dcdc7a6 |  -99.6978 |  16.623    |\n",
            "+----+------------+----------------+-----------+--------------+-------------------+---------------+-----------+-----------------+-----------------+----------------------+----------------------------------------------------------------------------------------------------------------------------------------------------------------------------------------------------------------------------------------------------------------------------------------------------------------------------------------------+-------------------------------------------------+------------------------------------------------------------------------+-------------------------------------+--------------------+-----------------------------------------------------------------------------------------+------------+-------------+------------------------+--------------------------------------+-----------+------------+\n"
          ]
        }
      ]
    },
    {
      "cell_type": "markdown",
      "source": [
        "# Overview of the DataFrame's general information\n"
      ],
      "metadata": {
        "id": "mlqvRWIKF2Lr"
      }
    },
    {
      "cell_type": "code",
      "source": [
        "# Summary data for the dataset analysis\n",
        "summary_data = [\n",
        "    [\"Total Rows\", f\"{df.shape[0]:,}\"],  # Total number of rows in the dataset\n",
        "    [\"Total Columns\", f\"{df.shape[1]:,}\"],  # Total number of columns in the dataset\n",
        "    [\"Missing Values\", f\"{df.isna().sum().sum():,}\"],  # Total count of missing values\n",
        "    [\"Duplicated Rows\", f\"{df.duplicated().sum():,}\"],  # Number of duplicated rows\n",
        "    [\"Duplicated Columns\", f\"{df.columns.duplicated().sum():,}\"],  # Number of duplicated columns\n",
        "]\n",
        "\n",
        "# Displaying an overview of the dataset in a table\n",
        "print(\"Dataset Overview:\")  # Header for dataset overview section\n",
        "print(tabulate(summary_data, headers=[\"Metric\", \"Value\"], tablefmt=\"pretty\"))  # Display table with metrics"
      ],
      "metadata": {
        "colab": {
          "base_uri": "https://localhost:8080/"
        },
        "id": "grESQxyENcHs",
        "outputId": "15f94424-d104-4ca6-b54d-ccc2251fc4f4"
      },
      "execution_count": null,
      "outputs": [
        {
          "output_type": "stream",
          "name": "stdout",
          "text": [
            "Dataset Overview:\n",
            "+--------------------+--------+\n",
            "|       Metric       | Value  |\n",
            "+--------------------+--------+\n",
            "|     Total Rows     | 20,425 |\n",
            "|   Total Columns    |   22   |\n",
            "|   Missing Values   | 36,759 |\n",
            "|  Duplicated Rows   |   0    |\n",
            "| Duplicated Columns |   0    |\n",
            "+--------------------+--------+\n"
          ]
        }
      ]
    },
    {
      "cell_type": "code",
      "source": [
        "# Displaying detailed information about the dataset\n",
        "print(\"Dataset Information:\")  # Header for dataset information section\n",
        "df.info()  # Print the DataFrame's info including column types and memory usage"
      ],
      "metadata": {
        "colab": {
          "base_uri": "https://localhost:8080/"
        },
        "id": "oNYkeOM8Hjub",
        "outputId": "99ef4db3-a970-4128-a3ca-9146a6883bbc"
      },
      "execution_count": null,
      "outputs": [
        {
          "output_type": "stream",
          "name": "stdout",
          "text": [
            "Dataset Information:\n",
            "<class 'pandas.core.frame.DataFrame'>\n",
            "RangeIndex: 20425 entries, 0 to 20424\n",
            "Data columns (total 22 columns):\n",
            " #   Column            Non-Null Count  Dtype  \n",
            "---  ------            --------------  -----  \n",
            " 0   OBJECTID          20425 non-null  int64  \n",
            " 1   Oceans            20154 non-null  object \n",
            " 2   Regions           8885 non-null   object \n",
            " 3   SubRegions        1307 non-null   object \n",
            " 4   Sampling Method   20425 non-null  object \n",
            " 5   Measurement       14613 non-null  float64\n",
            " 6   Unit              20425 non-null  object \n",
            " 7   Density Range     20425 non-null  object \n",
            " 8   Density Class     20425 non-null  object \n",
            " 9   Short Reference   20425 non-null  object \n",
            " 10  Long Reference    20425 non-null  object \n",
            " 11  DOI               20425 non-null  object \n",
            " 12  Organization      20425 non-null  object \n",
            " 13  Keywords          20407 non-null  object \n",
            " 14  Accession Number  20425 non-null  int64  \n",
            " 15  Accession Link    20425 non-null  object \n",
            " 16  Latitude          20425 non-null  float64\n",
            " 17  Longitude         20425 non-null  float64\n",
            " 18  Date              20425 non-null  object \n",
            " 19  GlobalID          20425 non-null  object \n",
            " 20  x                 20425 non-null  float64\n",
            " 21  y                 20425 non-null  float64\n",
            "dtypes: float64(5), int64(2), object(15)\n",
            "memory usage: 3.4+ MB\n"
          ]
        }
      ]
    },
    {
      "cell_type": "code",
      "source": [
        "# Displaying missing values for each column in a table\n",
        "print(\"Missing Values per Column:\")  # Header for missing values section\n",
        "print(\n",
        "    tabulate(\n",
        "        df.isnull().sum().reset_index().values,\n",
        "        headers=[\"Column\", \"Missing Values\"],  # Table headers\n",
        "        tablefmt=\"pretty\",  # Format for a visually appealing table\n",
        "    )\n",
        ")"
      ],
      "metadata": {
        "colab": {
          "base_uri": "https://localhost:8080/"
        },
        "id": "rBKyAzbLHr2q",
        "outputId": "2ece3355-f42e-48e0-f6ca-c597c04d87bb"
      },
      "execution_count": null,
      "outputs": [
        {
          "output_type": "stream",
          "name": "stdout",
          "text": [
            "Missing Values per Column:\n",
            "+------------------+----------------+\n",
            "|      Column      | Missing Values |\n",
            "+------------------+----------------+\n",
            "|     OBJECTID     |       0        |\n",
            "|      Oceans      |      271       |\n",
            "|     Regions      |     11540      |\n",
            "|    SubRegions    |     19118      |\n",
            "| Sampling Method  |       0        |\n",
            "|   Measurement    |      5812      |\n",
            "|       Unit       |       0        |\n",
            "|  Density Range   |       0        |\n",
            "|  Density Class   |       0        |\n",
            "| Short Reference  |       0        |\n",
            "|  Long Reference  |       0        |\n",
            "|       DOI        |       0        |\n",
            "|   Organization   |       0        |\n",
            "|     Keywords     |       18       |\n",
            "| Accession Number |       0        |\n",
            "|  Accession Link  |       0        |\n",
            "|     Latitude     |       0        |\n",
            "|    Longitude     |       0        |\n",
            "|       Date       |       0        |\n",
            "|     GlobalID     |       0        |\n",
            "|        x         |       0        |\n",
            "|        y         |       0        |\n",
            "+------------------+----------------+\n"
          ]
        }
      ]
    },
    {
      "cell_type": "markdown",
      "source": [
        "#Exploring numeric data\n",
        "\n",
        "\n",
        "\n"
      ],
      "metadata": {
        "id": "t6Vd0Qu0LFea"
      }
    },
    {
      "cell_type": "code",
      "source": [
        "# Understanding the \"Measurement\" column\n",
        "print(df['Measurement'].describe())\n",
        "measurement_counts = df['Measurement'].value_counts().reset_index()\n",
        "measurement_counts.columns = ['Measurement', 'Count']\n",
        "print(tabulate(measurement_counts.head(20), headers='keys', tablefmt='psql'))"
      ],
      "metadata": {
        "colab": {
          "base_uri": "https://localhost:8080/"
        },
        "id": "7SblvmRzCF15",
        "outputId": "15a4aa48-8f0d-48c5-e3af-0ba80201a6e0"
      },
      "execution_count": 50,
      "outputs": [
        {
          "output_type": "stream",
          "name": "stdout",
          "text": [
            "count     14613.000000\n",
            "mean        161.983976\n",
            "std        2198.862484\n",
            "min           0.000000\n",
            "25%           0.000000\n",
            "50%           0.008640\n",
            "75%           0.128412\n",
            "max      110480.000000\n",
            "Name: Measurement, dtype: float64\n",
            "+----+---------------+---------+\n",
            "|    |   Measurement |   Count |\n",
            "|----+---------------+---------|\n",
            "|  0 |      0        |    4610 |\n",
            "|  1 |      0.00216  |     536 |\n",
            "|  2 |      0.00432  |     371 |\n",
            "|  3 |      0.00648  |     232 |\n",
            "|  4 |      0.0108   |     202 |\n",
            "|  5 |      0.00864  |     199 |\n",
            "|  6 |      0.001    |     113 |\n",
            "|  7 |      0.0216   |     103 |\n",
            "|  8 |      0.002    |     102 |\n",
            "|  9 |      0.003    |      97 |\n",
            "| 10 |      0.01728  |      93 |\n",
            "| 11 |      0.01296  |      93 |\n",
            "| 12 |   1410.44     |      82 |\n",
            "| 13 |      0.01512  |      80 |\n",
            "| 14 |      0.004    |      80 |\n",
            "| 15 |      0.043196 |      75 |\n",
            "| 16 |      0.0072   |      68 |\n",
            "| 17 |      0.006    |      62 |\n",
            "| 18 |      0.005    |      61 |\n",
            "| 19 |      0.01944  |      61 |\n",
            "+----+---------------+---------+\n"
          ]
        }
      ]
    },
    {
      "cell_type": "code",
      "source": [
        "# Converting the 'Measurement' column to numeric and overwriting\n",
        "df['Measurement'] = pd.to_numeric(df['Measurement'], errors='coerce')\n",
        "print(tabulate(measurement_counts.head(20), headers='keys', tablefmt='psql'))\n",
        "print(df['Measurement'].describe())"
      ],
      "metadata": {
        "id": "YKt33lJYQUCC",
        "colab": {
          "base_uri": "https://localhost:8080/"
        },
        "outputId": "b3f43c32-bbdb-4481-9a61-9481cae000f2"
      },
      "execution_count": null,
      "outputs": [
        {
          "output_type": "stream",
          "name": "stdout",
          "text": [
            "+----+---------------+---------+\n",
            "|    |   Measurement |   Count |\n",
            "|----+---------------+---------|\n",
            "|  0 |      0        |    4610 |\n",
            "|  1 |      0.00216  |     536 |\n",
            "|  2 |      0.00432  |     371 |\n",
            "|  3 |      0.00648  |     232 |\n",
            "|  4 |      0.0108   |     202 |\n",
            "|  5 |      0.00864  |     199 |\n",
            "|  6 |      0.001    |     113 |\n",
            "|  7 |      0.0216   |     103 |\n",
            "|  8 |      0.002    |     102 |\n",
            "|  9 |      0.003    |      97 |\n",
            "| 10 |      0.01728  |      93 |\n",
            "| 11 |      0.01296  |      93 |\n",
            "| 12 |   1410.44     |      82 |\n",
            "| 13 |      0.01512  |      80 |\n",
            "| 14 |      0.004    |      80 |\n",
            "| 15 |      0.043196 |      75 |\n",
            "| 16 |      0.0072   |      68 |\n",
            "| 17 |      0.006    |      62 |\n",
            "| 18 |      0.005    |      61 |\n",
            "| 19 |      0.01944  |      61 |\n",
            "+----+---------------+---------+\n",
            "count     14613.000000\n",
            "mean        161.983976\n",
            "std        2198.862484\n",
            "min           0.000000\n",
            "25%           0.000000\n",
            "50%           0.008640\n",
            "75%           0.128412\n",
            "max      110480.000000\n",
            "Name: Measurement, dtype: float64\n"
          ]
        }
      ]
    },
    {
      "cell_type": "code",
      "source": [
        "# Performing detailed analysis of the 'Density Range' column\n",
        "\n",
        "print(f\"{df['Density Range'].describe()}\")\n",
        "density_range_counts = df['Density Range'].value_counts().reset_index()\n",
        "density_range_counts.columns = ['Density Range', 'Count']\n",
        "print(tabulate(density_range_counts, headers='keys', tablefmt='psql'))"
      ],
      "metadata": {
        "id": "Be6rv3pKs9AO",
        "colab": {
          "base_uri": "https://localhost:8080/"
        },
        "outputId": "b761f3b9-a461-4c22-8e87-9a034a003e8c"
      },
      "execution_count": null,
      "outputs": [
        {
          "output_type": "stream",
          "name": "stdout",
          "text": [
            "count       20425\n",
            "unique         18\n",
            "top       0.005-1\n",
            "freq         6136\n",
            "Name: Density Range, dtype: object\n",
            "+----+-----------------+---------+\n",
            "|    | Density Range   |   Count |\n",
            "|----+-----------------+---------|\n",
            "|  0 | 0.005-1         |    6136 |\n",
            "|  1 | 0-0.0005        |    4485 |\n",
            "|  2 | 2-40            |    2901 |\n",
            "|  3 | 0.0005-0.005    |    1838 |\n",
            "|  4 | 40-200          |    1346 |\n",
            "|  5 | 1-10            |    1128 |\n",
            "|  6 | 0               |    1017 |\n",
            "|  7 | 1-2             |     403 |\n",
            "|  8 | 500-30000       |     325 |\n",
            "|  9 | >=10            |     313 |\n",
            "| 10 | >200            |     233 |\n",
            "| 11 | 20-150          |     102 |\n",
            "| 12 | 0-100           |      97 |\n",
            "| 13 | 0-2             |      41 |\n",
            "| 14 | 2-20            |      36 |\n",
            "| 15 | >40000          |      13 |\n",
            "| 16 | 150-200         |       8 |\n",
            "| 17 | 30000-40000     |       3 |\n",
            "+----+-----------------+---------+\n"
          ]
        }
      ]
    },
    {
      "cell_type": "code",
      "source": [
        "# The \"Density\" column has dtype object, resolving this issue\n",
        "\n",
        "# Identifying and categorizing operators\n",
        "def identify_operator(value):\n",
        "    if pd.isna(value):\n",
        "        return None  # Returning None for NaN values\n",
        "    if '>=' in value:\n",
        "        return 'lower or equal'\n",
        "    elif '>' in value:\n",
        "        return 'upper'\n",
        "    elif '<' in value:\n",
        "        return 'lower'\n",
        "    else:\n",
        "        return None\n",
        "\n",
        "# Identifying and categorizing operators\n",
        "def extract_numeric(value):\n",
        "    if pd.isna(value):\n",
        "        return None\n",
        "    for op in ['>=', '>', '<']:\n",
        "        if op in value:\n",
        "            try:\n",
        "                return float(value.replace(op, '').strip()) # Converting to numeric\n",
        "            except ValueError:\n",
        "                return None\n",
        "    return None\n",
        "\n",
        "# Function for cleaning the values by removing operators\n",
        "def clean_value(value):\n",
        "    if pd.isna(value):\n",
        "        return None\n",
        "    if any(op in value for op in ['>=', '>', '<']):\n",
        "        return None\n",
        "    try:\n",
        "        return float(value.strip())\n",
        "    except ValueError:\n",
        "        return None\n",
        "\n",
        "# Splitting the 'Density Range' column into Lower_Density and Upper_Density\n",
        "df[['Lower_Density', 'Upper_Density']] = df['Density Range'].str.split('-', expand=True)\n",
        "\n",
        "# Cleaning and converting Lower_Density and Upper_Density columns to numeric\n",
        "df['Lower_Density'] = df['Lower_Density'].apply(clean_value)\n",
        "df['Upper_Density'] = df['Upper_Density'].apply(clean_value)\n",
        "\n",
        "# Identifying operators and replicating numeric values to Replicated_Value\n",
        "df['Operator'] = df['Density Range'].apply(identify_operator)\n",
        "df['Replicated_Value'] = df['Density Range'].apply(extract_numeric)\n",
        "\n",
        "# Displaying the results\n",
        "print(tabulate(df[['Density Range', 'Lower_Density', 'Upper_Density', 'Operator', 'Replicated_Value']].head(10), headers='keys', tablefmt='psql'))"
      ],
      "metadata": {
        "colab": {
          "base_uri": "https://localhost:8080/"
        },
        "id": "MFCfOoKAQwsr",
        "outputId": "7a84123e-637b-4a80-ee0f-318acb5a0538"
      },
      "execution_count": 53,
      "outputs": [
        {
          "output_type": "stream",
          "name": "stdout",
          "text": [
            "+----+-----------------+-----------------+-----------------+----------------+--------------------+\n",
            "|    | Density Range   |   Lower_Density |   Upper_Density | Operator       |   Replicated_Value |\n",
            "|----+-----------------+-----------------+-----------------+----------------+--------------------|\n",
            "|  0 | 0.005-1         |          0.005  |          1      |                |                nan |\n",
            "|  1 | 0-0.0005        |          0      |          0.0005 |                |                nan |\n",
            "|  2 | 0.005-1         |          0.005  |          1      |                |                nan |\n",
            "|  3 | >=10            |        nan      |        nan      | lower or equal |                 10 |\n",
            "|  4 | 0.0005-0.005    |          0.0005 |          0.005  |                |                nan |\n",
            "|  5 | 0-0.0005        |          0      |          0.0005 |                |                nan |\n",
            "|  6 | 0.005-1         |          0.005  |          1      |                |                nan |\n",
            "|  7 | 0.005-1         |          0.005  |          1      |                |                nan |\n",
            "|  8 | 1-10            |          1      |         10      |                |                nan |\n",
            "|  9 | 0.0005-0.005    |          0.0005 |          0.005  |                |                nan |\n",
            "+----+-----------------+-----------------+-----------------+----------------+--------------------+\n"
          ]
        }
      ]
    },
    {
      "cell_type": "code",
      "source": [
        "# Converting Lower_Density, Upper_Density, and Replicated_Value to numeric, overwriting the existing columns\n",
        "df['Lower_Density'] = pd.to_numeric(df['Lower_Density'], errors='coerce')\n",
        "df['Upper_Density'] = pd.to_numeric(df['Upper_Density'], errors='coerce')\n",
        "df['Replicated_Value'] = pd.to_numeric(df['Replicated_Value'], errors='coerce')\n",
        "\n",
        "# Displaying the first few rows of the DataFrame with the converted columns\n",
        "print(tabulate(df[['Density Range', 'Lower_Density', 'Upper_Density', 'Operator', 'Replicated_Value']].head(10), headers='keys', tablefmt='psql'))"
      ],
      "metadata": {
        "colab": {
          "base_uri": "https://localhost:8080/"
        },
        "id": "uigQ3DJtLuQ3",
        "outputId": "2d8b1316-fdbf-4872-f8ea-79ea02519eb7"
      },
      "execution_count": 52,
      "outputs": [
        {
          "output_type": "stream",
          "name": "stdout",
          "text": [
            "+----+-----------------+-----------------+-----------------+----------------+--------------------+\n",
            "|    | Density Range   |   Lower_Density |   Upper_Density | Operator       |   Replicated_Value |\n",
            "|----+-----------------+-----------------+-----------------+----------------+--------------------|\n",
            "|  0 | 0.005-1         |          0.005  |          1      |                |                nan |\n",
            "|  1 | 0-0.0005        |          0      |          0.0005 |                |                nan |\n",
            "|  2 | 0.005-1         |          0.005  |          1      |                |                nan |\n",
            "|  3 | >=10            |        nan      |        nan      | lower or equal |                 10 |\n",
            "|  4 | 0.0005-0.005    |          0.0005 |          0.005  |                |                nan |\n",
            "|  5 | 0-0.0005        |          0      |          0.0005 |                |                nan |\n",
            "|  6 | 0.005-1         |          0.005  |          1      |                |                nan |\n",
            "|  7 | 0.005-1         |          0.005  |          1      |                |                nan |\n",
            "|  8 | 1-10            |          1      |         10      |                |                nan |\n",
            "|  9 | 0.0005-0.005    |          0.0005 |          0.005  |                |                nan |\n",
            "+----+-----------------+-----------------+-----------------+----------------+--------------------+\n"
          ]
        }
      ]
    }
  ]
}