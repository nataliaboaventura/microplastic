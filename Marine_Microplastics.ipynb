{
  "nbformat": 4,
  "nbformat_minor": 0,
  "metadata": {
    "colab": {
      "provenance": [],
      "authorship_tag": "ABX9TyNm3w6eAI8IXL3VnVhjFz6f",
      "include_colab_link": true
    },
    "kernelspec": {
      "name": "python3",
      "display_name": "Python 3"
    },
    "language_info": {
      "name": "python"
    }
  },
  "cells": [
    {
      "cell_type": "markdown",
      "metadata": {
        "id": "view-in-github",
        "colab_type": "text"
      },
      "source": [
        "<a href=\"https://colab.research.google.com/github/nataliaboaventura/microplastic/blob/main/Marine_Microplastics.ipynb\" target=\"_parent\"><img src=\"https://colab.research.google.com/assets/colab-badge.svg\" alt=\"Open In Colab\"/></a>"
      ]
    },
    {
      "cell_type": "markdown",
      "source": [
        "![](https://raw.githubusercontent.com/nataliaboaventura/microplastic/refs/heads/main/sea-2470908.jpg)\n",
        "*Source: [Pixabay](https://pixabay.com/photos/sea-ocean-underwater-turtle-2470908/), Public Domain.*\n",
        "#Exploring Microplastics in the Atlantic Ocean: Data Analysis and Insights\n",
        "by *Natalia Boaventura*\n",
        "\n",
        "\n",
        "The objective of this project is to explore Kaggle's dataset [\"Marine Microplastics\"](https://www.kaggle.com/datasets/william2020/marine-microplastics?resource=download&SSORegistrationToken=CfDJ8EnTcgNki7pNlcBNxcx19bsgzTpDM_RqiDGZsGaOUlZdCTG7WJ1TMWnQltiT6VmHxokRFTJPvsjF-6LWqziEnauehrYSXLbnZN-7B0yKPpUYeFrzWxHd02RBJ4C_U8bH6NOqB0WhJ6SXn3tul5yzqNUNOv9lcbqxzeXDLT7zNidLdz1N6QegQGQQxIKutTtiOkrWD1ZFOcVft4wrBRy3ujo3lPbjLkk-f_d4-C--L9sX50heY1qpEYm1jlj1Olfd-2UMCC4J4WX6OEJfNhblWEfutjVCsXUgEimrLWI4c1ZUXpjpeuOwhYWheuA1gpUFsek432taaBs5l5Fa4rjXBGH7zNlVuMafG9bPHydctAuuy_69kCU&DisplayName=Natalia). The Marine Microplastics database contains data on microplastic concentrations, collection locations, and sampling methods, aiming to improve water quality and protect coastal ecosystems.\n",
        "Microplastics are a growing environmental concern, as they pose significant threats to marine life and ecosystems. By analyzing this dataset, the project aims to understand the distribution, sources, and impact of microplastics in the ocean. The exploration will involve cleaning and visualizing the data, identifying patterns, and possibly correlating the presence of microplastics with environmental factors such as water temperature, location, and pollution levels. The insights gained from this analysis could help in developing strategies for mitigating plastic pollution in the ocean.\n"
      ],
      "metadata": {
        "id": "nqp2Os4ysqqQ"
      }
    },
    {
      "cell_type": "code",
      "execution_count": null,
      "metadata": {
        "id": "CXi6JBBGsilH"
      },
      "outputs": [],
      "source": [
        "# Importing libraries\n",
        "import pandas as pd\n",
        "import matplotlib.pyplot as plt\n",
        "import seaborn as sns\n",
        "from tabulate import tabulate"
      ]
    },
    {
      "cell_type": "code",
      "source": [
        "# Importing the spreadsheet in CSV format\n",
        "url = \"https://docs.google.com/spreadsheets/d/e/2PACX-1vQstzGfKjigSrlLtNzy9PDAHp5C4aLfSfpN61GyTB_0XVRgNHw37bZH4cMe69udb3fbJEXZR9fS1nx0/pub?output=csv\"\n",
        "\n",
        "# Reading the data and displaying the first rows\n",
        "df = pd.read_csv(url)\n",
        "\n",
        "# Displaying the initial records\n",
        "print(tabulate(df.head(), headers='keys', tablefmt='psql'))"
      ],
      "metadata": {
        "colab": {
          "base_uri": "https://localhost:8080/"
        },
        "id": "SkpKjHLuL-nT",
        "outputId": "894e577e-4ec4-4e9e-b903-d8de5df528dd"
      },
      "execution_count": null,
      "outputs": [
        {
          "output_type": "stream",
          "name": "stdout",
          "text": [
            "+----+------------+----------------+-----------+--------------+-------------------+---------------+-----------+-----------------+-----------------+----------------------+----------------------------------------------------------------------------------------------------------------------------------------------------------------------------------------------------------------------------------------------------------------------------------------------------------------------------------------------+-------------------------------------------------+------------------------------------------------------------------------+-------------------------------------+--------------------+-----------------------------------------------------------------------------------------+------------+-------------+------------------------+--------------------------------------+----------------------+---------------------+\n",
            "|    |   OBJECTID | Oceans         |   Regions |   SubRegions | Sampling Method   |   Measurement | Unit      | Density Range   | Density Class   | Short Reference      | Long Reference                                                                                                                                                                                                                                                                                                                               | DOI                                             | Organization                                                           | Keywords                            |   Accession Number | Accession Link                                                                          |   Latitude | Longitude   | Date                   | GlobalID                             | x                    | y                   |\n",
            "|----+------------+----------------+-----------+--------------+-------------------+---------------+-----------+-----------------+-----------------+----------------------+----------------------------------------------------------------------------------------------------------------------------------------------------------------------------------------------------------------------------------------------------------------------------------------------------------------------------------------------+-------------------------------------------------+------------------------------------------------------------------------+-------------------------------------+--------------------+-----------------------------------------------------------------------------------------+------------+-------------+------------------------+--------------------------------------+----------------------+---------------------|\n",
            "|  0 |       9676 | Atlantic Ocean |       nan |          nan | Grab sample       |            18 | pieces/m3 | 0.005-1         | Medium          | Barrows et al.2018   | Barrows, A.P.W., S.E. Cathey, C.W. Petersen. 2018. Marine environment microfiber contamination: global patterns and the diversity of microparticle origins. Environ. Pollut. 237, 275?284                                                                                                                                                    | https://doi.org/10.1016/j.envpol.2018.02.062    | Adventure Scientist                                                    | Adventure Scientist/Citizen Science |             211009 | https://www.ncei.noaa.gov/access/metadata/landing-page/bin/iso?id=gov.noaa.nodc:211009  |    -31.696 | -48.56      | 8/11/2015 00:00:00     | a77121b2-e113-444e-82d9-7af11d62fdd2 | -485.599.999.999.999 | -31.696             |\n",
            "|  1 |       6427 | Pacific Ocean  |       nan |          nan | Neuston net       |             0 | pieces/m3 | 0-0.0005        | Very Low        | Law et al.2014       | Law, K.L, S.K. Morét-Ferguson, D.S. Goodwin, E.R. Zettler, E. DeForce, T. Kukulka, et al. 2014. Distribution of surface plastic debris in the eastern Pacific Ocean from an 11-year data set. Environ Sci Technol. 48(9):4732–8.                                                                                                             | https://doi.org/10.1021/es4053076               | Sea Education Association                                              | SEA                                 |             211008 | https://www.ncei.noaa.gov/access/metadata/landing-page/bin/iso?id=gov.noaa.nodc:211008  |      6.35  | -121.85     | 12/18/2002 12:00:00 AM | be27c450-02ca-4261-8d89-cae21108e6cc | -121.85              | 635.000.000.000.002 |\n",
            "|  2 |      10672 | Pacific Ocean  |       nan |          nan | Manta net         |            13 | pieces/m3 | 0.005-1         | Medium          | Goldstein et al.2013 | Goldstein, M.C., A.J. Titmus, M. Ford. 2013. Scales of Spatial Heterogeneity of Plastic Marine Debris in the Northeast Pacific Ocean. PLoS ONE 8(11): e80020.                                                                                                                                                                                | https://doi.org/10.1371/journal.pone.0080020    | Scripps Institution of Oceanography-University of California San Diego | Great Pacific Garbage Patch/SEAPLEX |             253448 | https://www.ncei.noaa.gov/access/metadata/landing-page/bin/iso?id=gov.noaa.nodc:0253448 |      0.5   | -95.35      | 10/17/2006 12:00:00 AM | 23effcdd-35b7-4e1e-adb4-390693a287d3 | -95.35               | 500.000.000.000.057 |\n",
            "|  3 |      13921 | Atlantic Ocean |       nan |          nan | Aluminum bucket   |          1368 | pieces/m3 | >=10            | Very High       | Queiroz et al.2022   | Queiroz, A.F.dos S., A.S. da Conceição, D. Chelazzi, M. Rollnic, A. Cincinelli, T. Giarrizzo, J.E.M. Filho. 2022. First assessment of microplastic and artificial microfiber contamination in surface waters of the Amazon Continental Shelf. Science of The Total Environment, 839, 156259. https://doi.org/10.1016/j.scitotenv.2022.156259 | https://doi.org/10.1016/j.scitotenv.2022.156259 | Federal University of Pará, Brazil                                     | Amazon Continental Shelf            |             276482 | https://www.ncei.noaa.gov/access/metadata/landing-page/bin/iso?id=gov.noaa.nodc:276482  |    631.825 | -45.398.158 | 10/17/2018 12:00:00 AM | 16d77822-0533-4116-97b9-0bdb592f3d6e | -45.398.158          | 631.825.000.000.049 |\n",
            "|  4 |       9344 | Pacific Ocean  |       nan |          nan | Grab sample       |             1 | pieces/m3 | 0.0005-0.005    | Low             | Barrows et al.2018   | Barrows, A.P.W., S.E. Cathey, C.W. Petersen. 2018. Marine environment microfiber contamination: global patterns and the diversity of microparticle origins. Environ. Pollut. 237, 275?284                                                                                                                                                    | https://doi.org/10.1016/j.envpol.2018.02.062    | Adventure Scientist                                                    | Adventure Scientist/Citizen Science |             211009 | https://www.ncei.noaa.gov/access/metadata/landing-page/bin/iso?id=gov.noaa.nodc:211009  |     16.623 | -996.978    | 1/3/2015 00:00:00      | b9e435e3-9e86-4143-8b51-877e5dcdc7a6 | -996.978             | 16.623              |\n",
            "+----+------------+----------------+-----------+--------------+-------------------+---------------+-----------+-----------------+-----------------+----------------------+----------------------------------------------------------------------------------------------------------------------------------------------------------------------------------------------------------------------------------------------------------------------------------------------------------------------------------------------+-------------------------------------------------+------------------------------------------------------------------------+-------------------------------------+--------------------+-----------------------------------------------------------------------------------------+------------+-------------+------------------------+--------------------------------------+----------------------+---------------------+\n"
          ]
        }
      ]
    },
    {
      "cell_type": "code",
      "source": [
        "# Overview of the DataFrame's general information\n",
        "\n",
        "# Summary data for the dataset analysis\n",
        "summary_data = [\n",
        "    [\"Total Rows\", f\"{df.shape[0]:,}\"],  # Total number of rows in the dataset\n",
        "    [\"Total Columns\", f\"{df.shape[1]:,}\"],  # Total number of columns in the dataset\n",
        "    [\"Missing Values\", f\"{df.isna().sum().sum():,}\"],  # Total count of missing values\n",
        "    [\"Duplicated Rows\", f\"{df.duplicated().sum():,}\"],  # Number of duplicated rows\n",
        "    [\"Duplicated Columns\", f\"{df.columns.duplicated().sum():,}\"],  # Number of duplicated columns\n",
        "]\n",
        "\n",
        "# Display the dataset overview as a table\n",
        "print(\"Dataset Overview:\")  # Header for dataset overview section\n",
        "print(tabulate(summary_data, headers=[\"Metric\", \"Value\"], tablefmt=\"pretty\"))  # Display table with metrics\n",
        "print(\"\\n\")\n",
        "\n",
        "# Display detailed information about the dataset\n",
        "print(\"Dataset Information:\")  # Header for dataset information section\n",
        "df.info()  # Print the DataFrame's info including column types and memory usage\n",
        "print(\"\\n\")\n",
        "\n",
        "# Display missing values per column as a table\n",
        "print(\"Missing Values per Column:\")  # Header for missing values section\n",
        "print(\n",
        "    tabulate(\n",
        "        df.isnull().sum().reset_index().values,\n",
        "        headers=[\"Column\", \"Missing Values\"],  # Table headers\n",
        "        tablefmt=\"pretty\",  # Format for a visually appealing table\n",
        "    )\n",
        ")"
      ],
      "metadata": {
        "colab": {
          "base_uri": "https://localhost:8080/"
        },
        "id": "grESQxyENcHs",
        "outputId": "0901f26d-36d6-446a-fae9-13ecbf8924e1"
      },
      "execution_count": null,
      "outputs": [
        {
          "output_type": "stream",
          "name": "stdout",
          "text": [
            "Dataset Overview:\n",
            "+--------------------+--------+\n",
            "|       Metric       | Value  |\n",
            "+--------------------+--------+\n",
            "|     Total Rows     | 20,425 |\n",
            "|   Total Columns    |   26   |\n",
            "|   Missing Values   | 79,904 |\n",
            "|  Duplicated Rows   |   0    |\n",
            "| Duplicated Columns |   0    |\n",
            "+--------------------+--------+\n",
            "\n",
            "\n",
            "Dataset Information:\n",
            "<class 'pandas.core.frame.DataFrame'>\n",
            "RangeIndex: 20425 entries, 0 to 20424\n",
            "Data columns (total 26 columns):\n",
            " #   Column            Non-Null Count  Dtype  \n",
            "---  ------            --------------  -----  \n",
            " 0   OBJECTID          20425 non-null  int64  \n",
            " 1   Oceans            20154 non-null  object \n",
            " 2   Regions           8885 non-null   object \n",
            " 3   SubRegions        1307 non-null   object \n",
            " 4   Sampling Method   20425 non-null  object \n",
            " 5   Measurement       13335 non-null  float64\n",
            " 6   Unit              20425 non-null  object \n",
            " 7   Density Range     20425 non-null  object \n",
            " 8   Density Class     20425 non-null  object \n",
            " 9   Short Reference   20425 non-null  object \n",
            " 10  Long Reference    20425 non-null  object \n",
            " 11  DOI               20425 non-null  object \n",
            " 12  Organization      20425 non-null  object \n",
            " 13  Keywords          20407 non-null  object \n",
            " 14  Accession Number  20425 non-null  int64  \n",
            " 15  Accession Link    20425 non-null  object \n",
            " 16  Latitude          20425 non-null  object \n",
            " 17  Longitude         20425 non-null  object \n",
            " 18  Date              20425 non-null  object \n",
            " 19  GlobalID          20425 non-null  object \n",
            " 20  x                 20425 non-null  object \n",
            " 21  y                 20425 non-null  object \n",
            " 22  Lower_Density     19866 non-null  float64\n",
            " 23  Upper_Density     18849 non-null  float64\n",
            " 24  Operator          559 non-null    object \n",
            " 25  Replicated_Value  559 non-null    float64\n",
            "dtypes: float64(4), int64(2), object(20)\n",
            "memory usage: 4.1+ MB\n",
            "\n",
            "\n",
            "Missing Values per Column:\n",
            "+------------------+----------------+\n",
            "|      Column      | Missing Values |\n",
            "+------------------+----------------+\n",
            "|     OBJECTID     |       0        |\n",
            "|      Oceans      |      271       |\n",
            "|     Regions      |     11540      |\n",
            "|    SubRegions    |     19118      |\n",
            "| Sampling Method  |       0        |\n",
            "|   Measurement    |      7090      |\n",
            "|       Unit       |       0        |\n",
            "|  Density Range   |       0        |\n",
            "|  Density Class   |       0        |\n",
            "| Short Reference  |       0        |\n",
            "|  Long Reference  |       0        |\n",
            "|       DOI        |       0        |\n",
            "|   Organization   |       0        |\n",
            "|     Keywords     |       18       |\n",
            "| Accession Number |       0        |\n",
            "|  Accession Link  |       0        |\n",
            "|     Latitude     |       0        |\n",
            "|    Longitude     |       0        |\n",
            "|       Date       |       0        |\n",
            "|     GlobalID     |       0        |\n",
            "|        x         |       0        |\n",
            "|        y         |       0        |\n",
            "|  Lower_Density   |      559       |\n",
            "|  Upper_Density   |      1576      |\n",
            "|     Operator     |     19866      |\n",
            "| Replicated_Value |     19866      |\n",
            "+------------------+----------------+\n"
          ]
        }
      ]
    },
    {
      "cell_type": "markdown",
      "source": [
        "Exploring numeric data\n",
        "\n",
        "\n",
        "\n"
      ],
      "metadata": {
        "id": "t6Vd0Qu0LFea"
      }
    },
    {
      "cell_type": "code",
      "source": [
        "# Understanding the \"Measurement\" column\n",
        "print(df['Measurement'].describe())\n",
        "measurement_counts = df['Measurement'].value_counts().reset_index()\n",
        "measurement_counts.columns = ['Measurement', 'Count']\n",
        "print(tabulate(measurement_counts.head(20), headers='keys', tablefmt='psql'))"
      ],
      "metadata": {
        "colab": {
          "base_uri": "https://localhost:8080/"
        },
        "id": "7SblvmRzCF15",
        "outputId": "ac2fc598-1a9d-4f8c-e9a9-cb6e7d9287d5"
      },
      "execution_count": null,
      "outputs": [
        {
          "output_type": "stream",
          "name": "stdout",
          "text": [
            "count     14613\n",
            "unique     4579\n",
            "top           0\n",
            "freq       4610\n",
            "Name: Measurement, dtype: object\n",
            "+----+---------------+---------+\n",
            "|    | Measurement   |   Count |\n",
            "|----+---------------+---------|\n",
            "|  0 | 0             |    4610 |\n",
            "|  1 | 216           |     640 |\n",
            "|  2 | 432           |     371 |\n",
            "|  3 | 648           |     232 |\n",
            "|  4 | 108           |     205 |\n",
            "|  5 | 864           |     200 |\n",
            "|  6 | 1             |     146 |\n",
            "|  7 | 2             |     112 |\n",
            "|  8 | 3             |      99 |\n",
            "|  9 | 1.728         |      97 |\n",
            "| 10 | 1.296         |      93 |\n",
            "| 11 | 4             |      83 |\n",
            "| 12 | 1.410.437.236 |      82 |\n",
            "| 13 | 1.512         |      80 |\n",
            "| 14 | 43.196        |      75 |\n",
            "| 15 | 6             |      69 |\n",
            "| 16 | 72            |      68 |\n",
            "| 17 | 5             |      65 |\n",
            "| 18 | 1.944         |      61 |\n",
            "| 19 | 24            |      58 |\n",
            "+----+---------------+---------+\n"
          ]
        }
      ]
    },
    {
      "cell_type": "code",
      "source": [
        "# Convertendo a coluna 'Measurement' para numérico e sobrescrevendo\n",
        "df['Measurement'] = pd.to_numeric(df['Measurement'], errors='coerce')"
      ],
      "metadata": {
        "id": "YKt33lJYQUCC"
      },
      "execution_count": null,
      "outputs": []
    },
    {
      "cell_type": "code",
      "source": [
        "# Detailed analysis of the \"Density Range\" column\n",
        "\n",
        "print(f\"{df['Density Range'].describe()}\")\n",
        "density_range_counts = df['Density Range'].value_counts().reset_index()\n",
        "density_range_counts.columns = ['Density Range', 'Count']\n",
        "print(tabulate(density_range_counts, headers='keys', tablefmt='psql'))"
      ],
      "metadata": {
        "id": "Be6rv3pKs9AO",
        "colab": {
          "base_uri": "https://localhost:8080/"
        },
        "outputId": "6e42bf22-331a-4262-be58-d1518ab40485"
      },
      "execution_count": null,
      "outputs": [
        {
          "output_type": "stream",
          "name": "stdout",
          "text": [
            "count       20425\n",
            "unique         18\n",
            "top       0.005-1\n",
            "freq         6136\n",
            "Name: Density Range, dtype: object\n",
            "+----+-----------------+---------+\n",
            "|    | Density Range   |   Count |\n",
            "|----+-----------------+---------|\n",
            "|  0 | 0.005-1         |    6136 |\n",
            "|  1 | 0-0.0005        |    4485 |\n",
            "|  2 | 2-40            |    2901 |\n",
            "|  3 | 0.0005-0.005    |    1838 |\n",
            "|  4 | 40-200          |    1346 |\n",
            "|  5 | 1-10            |    1128 |\n",
            "|  6 | 0               |    1017 |\n",
            "|  7 | 1-2             |     403 |\n",
            "|  8 | 500-30000       |     325 |\n",
            "|  9 | >=10            |     313 |\n",
            "| 10 | >200            |     233 |\n",
            "| 11 | 20-150          |     102 |\n",
            "| 12 | 0-100           |      97 |\n",
            "| 13 | 0-2             |      41 |\n",
            "| 14 | 2-20            |      36 |\n",
            "| 15 | >40000          |      13 |\n",
            "| 16 | 150-200         |       8 |\n",
            "| 17 | 30000-40000     |       3 |\n",
            "+----+-----------------+---------+\n"
          ]
        }
      ]
    },
    {
      "cell_type": "code",
      "source": [
        "# The \"Density\" column has dtype object, resolving this issue\n",
        "# Identifying and categorizing operators\n",
        "\n",
        "def identify_operator(value):\n",
        "    if pd.isna(value):\n",
        "        return None  # Returning None for NaN values\n",
        "    if '>=' in value:\n",
        "        return 'lower or equal'\n",
        "    elif '>' in value:\n",
        "        return 'upper'\n",
        "    elif '<' in value:\n",
        "        return 'lower'\n",
        "    else:\n",
        "        return None\n",
        "\n",
        "# Função para replicar apenas o número quando houver operador\n",
        "def extract_numeric(value):\n",
        "    if pd.isna(value):\n",
        "        return None # Retorna None para valores NaN\n",
        "    for op in ['>=', '>', '<']:\n",
        "        if op in value:\n",
        "            try:\n",
        "                return float(value.replace(op, '').strip()) # Converte para numérico\n",
        "            except ValueError:\n",
        "                return None # Retorna None se a conversão falhar\n",
        "    return None\n",
        "\n",
        "# Função para limpar os valores, removendo operadores\n",
        "def clean_value(value):\n",
        "    if pd.isna(value):\n",
        "        return None # Retorna None para valores NaN\n",
        "    if any(op in value for op in ['>=', '>', '<']):\n",
        "        return None\n",
        "    try:\n",
        "        return float(value.strip()) # Converte para numérico\n",
        "    except ValueError:\n",
        "        return None # Retorna None se a conversão falhar\n",
        "\n",
        "# Dividir a coluna 'Density Range' em Lower_Density e Upper_Density\n",
        "df[['Lower_Density', 'Upper_Density']] = df['Density Range'].str.split('-', expand=True)\n",
        "\n",
        "# Limpar e converter para numérico as colunas Lower_Density e Upper_Density\n",
        "df['Lower_Density'] = df['Lower_Density'].apply(clean_value)\n",
        "df['Upper_Density'] = df['Upper_Density'].apply(clean_value)\n",
        "\n",
        "\n",
        "# Identificar operadores e replicar valores numéricos para Replicated_Value\n",
        "df['Operator'] = df['Density Range'].apply(identify_operator)\n",
        "df['Replicated_Value'] = df['Density Range'].apply(extract_numeric)\n",
        "\n",
        "\n",
        "# Exibir os resultados\n",
        "print(tabulate(df[['Density Range', 'Lower_Density', 'Upper_Density', 'Operator', 'Replicated_Value']].head(10), headers='keys', tablefmt='psql'))"
      ],
      "metadata": {
        "colab": {
          "base_uri": "https://localhost:8080/"
        },
        "id": "YEysBo8092bU",
        "outputId": "5db62e2b-b798-4552-bbd7-a262de1c083b"
      },
      "execution_count": null,
      "outputs": [
        {
          "output_type": "stream",
          "name": "stdout",
          "text": [
            "+----+-----------------+-----------------+-----------------+----------------+--------------------+\n",
            "|    | Density Range   |   Lower_Density |   Upper_Density | Operator       |   Replicated_Value |\n",
            "|----+-----------------+-----------------+-----------------+----------------+--------------------|\n",
            "|  0 | 0.005-1         |          0.005  |          1      |                |                nan |\n",
            "|  1 | 0-0.0005        |          0      |          0.0005 |                |                nan |\n",
            "|  2 | 0.005-1         |          0.005  |          1      |                |                nan |\n",
            "|  3 | >=10            |        nan      |        nan      | lower or equal |                 10 |\n",
            "|  4 | 0.0005-0.005    |          0.0005 |          0.005  |                |                nan |\n",
            "|  5 | 0-0.0005        |          0      |          0.0005 |                |                nan |\n",
            "|  6 | 0.005-1         |          0.005  |          1      |                |                nan |\n",
            "|  7 | 0.005-1         |          0.005  |          1      |                |                nan |\n",
            "|  8 | 1-10            |          1      |         10      |                |                nan |\n",
            "|  9 | 0.0005-0.005    |          0.0005 |          0.005  |                |                nan |\n",
            "+----+-----------------+-----------------+-----------------+----------------+--------------------+\n"
          ]
        }
      ]
    },
    {
      "cell_type": "code",
      "source": [
        "# Convertendo Lower_Density, Upper_Density e Replicated_Value para numérico, sobrescrevendo as colunas existentes.\n",
        "df['Lower_Density'] = pd.to_numeric(df['Lower_Density'], errors='coerce')\n",
        "df['Upper_Density'] = pd.to_numeric(df['Upper_Density'], errors='coerce')\n",
        "df['Replicated_Value'] = pd.to_numeric(df['Replicated_Value'], errors='coerce')\n",
        "\n",
        "# Exibindo as primeiras linhas do DataFrame com as colunas convertidas\n",
        "print(tabulate(df[['Density Range', 'Lower_Density', 'Upper_Density', 'Operator', 'Replicated_Value']].head(10), headers='keys', tablefmt='psql'))"
      ],
      "metadata": {
        "colab": {
          "base_uri": "https://localhost:8080/"
        },
        "id": "MFCfOoKAQwsr",
        "outputId": "08fba64f-d11d-448e-df66-ee17b70d8582"
      },
      "execution_count": null,
      "outputs": [
        {
          "output_type": "stream",
          "name": "stdout",
          "text": [
            "+----+-----------------+-----------------+-----------------+----------------+--------------------+\n",
            "|    | Density Range   |   Lower_Density |   Upper_Density | Operator       |   Replicated_Value |\n",
            "|----+-----------------+-----------------+-----------------+----------------+--------------------|\n",
            "|  0 | 0.005-1         |          0.005  |          1      |                |                nan |\n",
            "|  1 | 0-0.0005        |          0      |          0.0005 |                |                nan |\n",
            "|  2 | 0.005-1         |          0.005  |          1      |                |                nan |\n",
            "|  3 | >=10            |        nan      |        nan      | lower or equal |                 10 |\n",
            "|  4 | 0.0005-0.005    |          0.0005 |          0.005  |                |                nan |\n",
            "|  5 | 0-0.0005        |          0      |          0.0005 |                |                nan |\n",
            "|  6 | 0.005-1         |          0.005  |          1      |                |                nan |\n",
            "|  7 | 0.005-1         |          0.005  |          1      |                |                nan |\n",
            "|  8 | 1-10            |          1      |         10      |                |                nan |\n",
            "|  9 | 0.0005-0.005    |          0.0005 |          0.005  |                |                nan |\n",
            "+----+-----------------+-----------------+-----------------+----------------+--------------------+\n"
          ]
        }
      ]
    },
    {
      "cell_type": "code",
      "source": [
        "#formating data column"
      ],
      "metadata": {
        "id": "iGOx2AKmqE5K"
      },
      "execution_count": null,
      "outputs": []
    },
    {
      "cell_type": "code",
      "source": [],
      "metadata": {
        "id": "1dKijSXcXltv"
      },
      "execution_count": null,
      "outputs": []
    }
  ]
}